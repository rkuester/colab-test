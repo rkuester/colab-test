{
  "nbformat": 4,
  "nbformat_minor": 0,
  "metadata": {
    "colab": {
      "provenance": []
    },
    "kernelspec": {
      "name": "python3",
      "display_name": "Python 3"
    },
    "language_info": {
      "name": "python"
    }
  },
  "cells": [
    {
      "cell_type": "markdown",
      "source": [
        "[![Open In Colab](https://colab.research.google.com/assets/colab-badge.svg)](https://colab.research.google.com/github/rkuester/colab-test/blob/master/examples/quick_start.ipynb)\n",
        "\n",
        "# Quick-Start Notebook\n",
        "\n",
        ">⚠️ This notebook is using the development version of `visual_blocks` from the [main branch](https://github.com/rkuester/colab-test/tree/master) in Github as opposed to a release version from PyPI."
      ],
      "metadata": {
        "id": "CBWwNEkf1LdV"
      }
    },
    {
      "cell_type": "code",
      "source": [
        "!pip install \"git+https://github.com/rkuester/colab-test.git@master#subdirectory=python\""
      ],
      "metadata": {
        "id": "-HU-KOGmzFMr"
      },
      "execution_count": null,
      "outputs": []
    },
    {
      "cell_type": "code",
      "execution_count": null,
      "metadata": {
        "id": "KC-YZWcfwYMK"
      },
      "outputs": [],
      "source": [
        "import visual_blocks\n",
        "print(visual_blocks.__doc__)"
      ]
    }
  ]
}
